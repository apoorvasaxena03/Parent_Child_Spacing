{
 "cells": [
  {
   "cell_type": "markdown",
   "metadata": {},
   "source": [
    "# Analyzing Well Bundles"
   ]
  },
  {
   "cell_type": "markdown",
   "metadata": {},
   "source": [
    "## 1. Importing / Installing Packages"
   ]
  },
  {
   "cell_type": "code",
   "execution_count": 1,
   "metadata": {},
   "outputs": [],
   "source": [
    "import pandas as pd\n",
    "\n",
    "# Set the maximum number of columns to display to None\n",
    "pd.set_option('display.max_columns', None)\n",
    "\n",
    "import re # Importing regular expression package\n",
    "\n",
    "from typing import List"
   ]
  },
  {
   "cell_type": "markdown",
   "metadata": {},
   "source": [
    "## 2. Loading Excel/csv into Pandas DataFrame"
   ]
  },
  {
   "cell_type": "code",
   "execution_count": 2,
   "metadata": {},
   "outputs": [],
   "source": [
    "df_raw = pd.read_csv('wellHeader_with_Cluster.csv',dtype={'ChosenID':str},parse_dates=['FirstProdDate','Comp_Dt'])"
   ]
  },
  {
   "cell_type": "code",
   "execution_count": 3,
   "metadata": {},
   "outputs": [],
   "source": [
    "# Renaming cluster column to bundle\n",
    "df_raw = df_raw.rename(columns={'cluster':'bundle'})"
   ]
  },
  {
   "cell_type": "code",
   "execution_count": 4,
   "metadata": {},
   "outputs": [
    {
     "data": {
      "text/plain": [
       "(2514, 20)"
      ]
     },
     "execution_count": 4,
     "metadata": {},
     "output_type": "execute_result"
    }
   ],
   "source": [
    "df_raw.shape"
   ]
  },
  {
   "cell_type": "markdown",
   "metadata": {},
   "source": [
    "## 3. Data Preprocessing"
   ]
  },
  {
   "cell_type": "markdown",
   "metadata": {},
   "source": [
    "### 3.1. Data Cleaning\n"
   ]
  },
  {
   "cell_type": "code",
   "execution_count": 5,
   "metadata": {},
   "outputs": [],
   "source": [
    "def reorder_columns(df: pd.DataFrame, columns_to_move: List[str], reference_column: str) -> pd.DataFrame:\n",
    "    \"\"\"\n",
    "    Reorders the columns of a dataframe by moving specified columns next to a reference column.\n",
    "\n",
    "    Parameters:\n",
    "    df (pd.DataFrame): The dataframe whose columns need to be reordered.\n",
    "    columns_to_move (List[str]): The names of the columns to move.\n",
    "    reference_column (str): The name of the column next to which the specified columns should be placed.\n",
    "\n",
    "    Returns:\n",
    "    pd.DataFrame: The dataframe with reordered columns.\n",
    "    \"\"\"\n",
    "    columns_order: List[str] = df.columns.tolist()  # Get current column order as a list\n",
    "    if not all(col in columns_order for col in columns_to_move) or reference_column not in columns_order:\n",
    "        raise ValueError(\"Specified columns must exist in the dataframe\")\n",
    "    \n",
    "    # Find the index of the reference column\n",
    "    ref_idx: int = columns_order.index(reference_column)\n",
    "    \n",
    "    # Remove the columns to move from their current positions\n",
    "    for col in columns_to_move:\n",
    "        columns_order.remove(col)\n",
    "    \n",
    "    # Insert the columns to move next to the reference column\n",
    "    for col in reversed(columns_to_move):\n",
    "        columns_order.insert(ref_idx + 1, col)\n",
    "    \n",
    "    # Reorder the dataframe columns\n",
    "    return df[columns_order]"
   ]
  },
  {
   "cell_type": "code",
   "execution_count": 6,
   "metadata": {},
   "outputs": [],
   "source": [
    "# Creating DSU columns names from Lease Name columns\n",
    "\n",
    "df_raw['DSU'] = df_raw['LeaseName'].apply(\n",
    "    lambda x: re.sub(r'[^a-zA-Z\\s]', '',  # Remove special characters, keep letters and spaces\n",
    "                     (re.match(r'([^\\d]+)', str(x)).group(1)  # Extract text before first digit (if exists)\n",
    "                      if pd.notna(x) and re.match(r'([^\\d]+)', str(x)) else str(x))  # Use original if no number\n",
    "                    ).strip()  # Strip leading/trailing spaces\n",
    ")\n",
    "\n",
    "# Placing DSU next to LeaseName\n",
    "df_raw = reorder_columns(df=df_raw, columns_to_move=['DSU'], reference_column='LeaseName')"
   ]
  },
  {
   "cell_type": "code",
   "execution_count": 7,
   "metadata": {},
   "outputs": [
    {
     "data": {
      "text/html": [
       "<div>\n",
       "<style scoped>\n",
       "    .dataframe tbody tr th:only-of-type {\n",
       "        vertical-align: middle;\n",
       "    }\n",
       "\n",
       "    .dataframe tbody tr th {\n",
       "        vertical-align: top;\n",
       "    }\n",
       "\n",
       "    .dataframe thead th {\n",
       "        text-align: right;\n",
       "    }\n",
       "</style>\n",
       "<table border=\"1\" class=\"dataframe\">\n",
       "  <thead>\n",
       "    <tr style=\"text-align: right;\">\n",
       "      <th></th>\n",
       "      <th>ChosenID</th>\n",
       "      <th>Basin</th>\n",
       "      <th>WellName</th>\n",
       "      <th>County</th>\n",
       "      <th>LeaseName</th>\n",
       "      <th>DSU</th>\n",
       "      <th>bundle</th>\n",
       "      <th>LeaseNumber</th>\n",
       "      <th>Field</th>\n",
       "      <th>RES_CAT</th>\n",
       "      <th>Landing_Zone</th>\n",
       "      <th>PerfLateralLength</th>\n",
       "      <th>FirstProdDate</th>\n",
       "      <th>Comp_Dt</th>\n",
       "      <th>HoleDirection</th>\n",
       "      <th>SurfaceLatitude</th>\n",
       "      <th>SurfaceLongitude</th>\n",
       "      <th>BH_Lat</th>\n",
       "      <th>BH_Long</th>\n",
       "      <th>mid_lat</th>\n",
       "      <th>mid_long</th>\n",
       "    </tr>\n",
       "  </thead>\n",
       "  <tbody>\n",
       "    <tr>\n",
       "      <th>0</th>\n",
       "      <td>4238939261</td>\n",
       "      <td>DB</td>\n",
       "      <td>JOHN PHILLIP LONG STATE 18-19 A 134H</td>\n",
       "      <td>REEVES</td>\n",
       "      <td>JOHN PHILLIP LONG STATE 18-19 A</td>\n",
       "      <td>JOHN PHILLIP LONG STATE</td>\n",
       "      <td>0</td>\n",
       "      <td>08-292705-G</td>\n",
       "      <td>PHANTOM</td>\n",
       "      <td>01PDP</td>\n",
       "      <td>3RD BS</td>\n",
       "      <td>11162.0</td>\n",
       "      <td>2021-09-01</td>\n",
       "      <td>2021-09-01</td>\n",
       "      <td>H</td>\n",
       "      <td>31.389298</td>\n",
       "      <td>-103.317163</td>\n",
       "      <td>31.358963</td>\n",
       "      <td>-103.321829</td>\n",
       "      <td>31.374130</td>\n",
       "      <td>-103.319496</td>\n",
       "    </tr>\n",
       "    <tr>\n",
       "      <th>1</th>\n",
       "      <td>4238939263</td>\n",
       "      <td>DB</td>\n",
       "      <td>JOHN PHILLIP LONG STATE 18-19 C 233H</td>\n",
       "      <td>REEVES</td>\n",
       "      <td>JOHN PHILLIP LONG STATE 18-19 C</td>\n",
       "      <td>JOHN PHILLIP LONG STATE</td>\n",
       "      <td>0</td>\n",
       "      <td>08-292616-G</td>\n",
       "      <td>PHANTOM</td>\n",
       "      <td>01PDP</td>\n",
       "      <td>WCA</td>\n",
       "      <td>11151.0</td>\n",
       "      <td>2021-09-01</td>\n",
       "      <td>2021-09-02</td>\n",
       "      <td>H</td>\n",
       "      <td>31.389406</td>\n",
       "      <td>-103.317137</td>\n",
       "      <td>31.359537</td>\n",
       "      <td>-103.324733</td>\n",
       "      <td>31.374471</td>\n",
       "      <td>-103.320935</td>\n",
       "    </tr>\n",
       "    <tr>\n",
       "      <th>2</th>\n",
       "      <td>4238939262</td>\n",
       "      <td>DB</td>\n",
       "      <td>JOHN PHILLIP LONG STATE 18-19 B 221H</td>\n",
       "      <td>REEVES</td>\n",
       "      <td>JOHN PHILLIP LONG STATE 18-19 B</td>\n",
       "      <td>JOHN PHILLIP LONG STATE</td>\n",
       "      <td>0</td>\n",
       "      <td>08-292637-G</td>\n",
       "      <td>PHANTOM</td>\n",
       "      <td>01PDP</td>\n",
       "      <td>WCA</td>\n",
       "      <td>11122.0</td>\n",
       "      <td>2021-09-01</td>\n",
       "      <td>2021-09-02</td>\n",
       "      <td>H</td>\n",
       "      <td>31.389190</td>\n",
       "      <td>-103.317189</td>\n",
       "      <td>31.360021</td>\n",
       "      <td>-103.327567</td>\n",
       "      <td>31.374605</td>\n",
       "      <td>-103.322378</td>\n",
       "    </tr>\n",
       "    <tr>\n",
       "      <th>3</th>\n",
       "      <td>4238939343</td>\n",
       "      <td>DB</td>\n",
       "      <td>ALTAI 23 1BS</td>\n",
       "      <td>REEVES</td>\n",
       "      <td>ALTAI 23</td>\n",
       "      <td>ALTAI</td>\n",
       "      <td>1</td>\n",
       "      <td>08-056710-O</td>\n",
       "      <td>HOEFS T-K</td>\n",
       "      <td>01PDP</td>\n",
       "      <td>3RD BS</td>\n",
       "      <td>11750.0</td>\n",
       "      <td>2021-11-01</td>\n",
       "      <td>2021-11-18</td>\n",
       "      <td>H</td>\n",
       "      <td>31.371540</td>\n",
       "      <td>-103.261983</td>\n",
       "      <td>31.403367</td>\n",
       "      <td>-103.256202</td>\n",
       "      <td>31.387453</td>\n",
       "      <td>-103.259093</td>\n",
       "    </tr>\n",
       "    <tr>\n",
       "      <th>4</th>\n",
       "      <td>4238939338</td>\n",
       "      <td>DB</td>\n",
       "      <td>IGUANA UNIT 6B62 62H</td>\n",
       "      <td>REEVES</td>\n",
       "      <td>IGUANA UNIT 6B62</td>\n",
       "      <td>IGUANA UNIT</td>\n",
       "      <td>2</td>\n",
       "      <td>08-056327-O</td>\n",
       "      <td>SANDBAR</td>\n",
       "      <td>01PDP</td>\n",
       "      <td>2ND BS</td>\n",
       "      <td>8433.0</td>\n",
       "      <td>2021-09-01</td>\n",
       "      <td>2021-09-13</td>\n",
       "      <td>H</td>\n",
       "      <td>31.264904</td>\n",
       "      <td>-103.177265</td>\n",
       "      <td>31.288020</td>\n",
       "      <td>-103.177203</td>\n",
       "      <td>31.276462</td>\n",
       "      <td>-103.177234</td>\n",
       "    </tr>\n",
       "  </tbody>\n",
       "</table>\n",
       "</div>"
      ],
      "text/plain": [
       "     ChosenID Basin                              WellName  County  \\\n",
       "0  4238939261    DB  JOHN PHILLIP LONG STATE 18-19 A 134H  REEVES   \n",
       "1  4238939263    DB  JOHN PHILLIP LONG STATE 18-19 C 233H  REEVES   \n",
       "2  4238939262    DB  JOHN PHILLIP LONG STATE 18-19 B 221H  REEVES   \n",
       "3  4238939343    DB                          ALTAI 23 1BS  REEVES   \n",
       "4  4238939338    DB                  IGUANA UNIT 6B62 62H  REEVES   \n",
       "\n",
       "                         LeaseName                      DSU  bundle  \\\n",
       "0  JOHN PHILLIP LONG STATE 18-19 A  JOHN PHILLIP LONG STATE       0   \n",
       "1  JOHN PHILLIP LONG STATE 18-19 C  JOHN PHILLIP LONG STATE       0   \n",
       "2  JOHN PHILLIP LONG STATE 18-19 B  JOHN PHILLIP LONG STATE       0   \n",
       "3                         ALTAI 23                    ALTAI       1   \n",
       "4                 IGUANA UNIT 6B62              IGUANA UNIT       2   \n",
       "\n",
       "   LeaseNumber      Field RES_CAT Landing_Zone  PerfLateralLength  \\\n",
       "0  08-292705-G    PHANTOM   01PDP       3RD BS            11162.0   \n",
       "1  08-292616-G    PHANTOM   01PDP          WCA            11151.0   \n",
       "2  08-292637-G    PHANTOM   01PDP          WCA            11122.0   \n",
       "3  08-056710-O  HOEFS T-K   01PDP       3RD BS            11750.0   \n",
       "4  08-056327-O    SANDBAR   01PDP       2ND BS             8433.0   \n",
       "\n",
       "  FirstProdDate    Comp_Dt HoleDirection  SurfaceLatitude  SurfaceLongitude  \\\n",
       "0    2021-09-01 2021-09-01             H        31.389298       -103.317163   \n",
       "1    2021-09-01 2021-09-02             H        31.389406       -103.317137   \n",
       "2    2021-09-01 2021-09-02             H        31.389190       -103.317189   \n",
       "3    2021-11-01 2021-11-18             H        31.371540       -103.261983   \n",
       "4    2021-09-01 2021-09-13             H        31.264904       -103.177265   \n",
       "\n",
       "      BH_Lat     BH_Long    mid_lat    mid_long  \n",
       "0  31.358963 -103.321829  31.374130 -103.319496  \n",
       "1  31.359537 -103.324733  31.374471 -103.320935  \n",
       "2  31.360021 -103.327567  31.374605 -103.322378  \n",
       "3  31.403367 -103.256202  31.387453 -103.259093  \n",
       "4  31.288020 -103.177203  31.276462 -103.177234  "
      ]
     },
     "execution_count": 7,
     "metadata": {},
     "output_type": "execute_result"
    }
   ],
   "source": [
    "df_raw.head()"
   ]
  }
 ],
 "metadata": {
  "kernelspec": {
   "display_name": "Python 3",
   "language": "python",
   "name": "python3"
  },
  "language_info": {
   "codemirror_mode": {
    "name": "ipython",
    "version": 3
   },
   "file_extension": ".py",
   "mimetype": "text/x-python",
   "name": "python",
   "nbconvert_exporter": "python",
   "pygments_lexer": "ipython3",
   "version": "3.9.19"
  }
 },
 "nbformat": 4,
 "nbformat_minor": 2
}
